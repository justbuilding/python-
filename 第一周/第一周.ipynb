{
 "cells": [
  {
   "cell_type": "code",
   "execution_count": 3,
   "metadata": {},
   "outputs": [
    {
     "name": "stdout",
     "output_type": "stream",
     "text": [
      "guess age is:12\n",
      "think bigger\n",
      "guess age is:44\n",
      "think bigger\n",
      "guess age is:66\n",
      "think smaller.\n",
      "you have tried too many times.\n"
     ]
    }
   ],
   "source": [
    "count = 0\n",
    "age = 56\n",
    "for i in range(3):\n",
    "    guess = int(input(\"guess age is:\"))\n",
    "    if guess == age:\n",
    "        print(\"you get it.\")\n",
    "        break\n",
    "    elif guess > age:\n",
    "        print(\"think smaller.\")\n",
    "    else:\n",
    "        print(\"think bigger\")\n",
    "    count +=1\n",
    "else:\n",
    "    print(\"you have tried too many times.\")"
   ]
  },
  {
   "cell_type": "code",
   "execution_count": 6,
   "metadata": {},
   "outputs": [
    {
     "name": "stdout",
     "output_type": "stream",
     "text": [
      "name:佳俊\n",
      "age:23\n",
      "\n",
      "name:佳俊\n",
      "age:23\n",
      "\n"
     ]
    }
   ],
   "source": [
    "name = input(\"name:\")\n",
    "age = int(input(\"age:\"))\n",
    "info = '''\n",
    "name:%s\n",
    "age:%d\n",
    "'''%(name,age)\n",
    "print(info)"
   ]
  },
  {
   "cell_type": "code",
   "execution_count": 7,
   "metadata": {},
   "outputs": [
    {
     "name": "stdout",
     "output_type": "stream",
     "text": [
      "name:佳俊\n",
      "age:23\n",
      "\n",
      "name:佳俊\n",
      "age:23\n",
      "\n"
     ]
    }
   ],
   "source": [
    "name = input(\"name:\")\n",
    "age = int(input(\"age:\"))\n",
    "info1 = '''\n",
    "name:{0}\n",
    "age:{1}\n",
    "'''.format(name,age)\n",
    "print(info1)"
   ]
  },
  {
   "cell_type": "code",
   "execution_count": 8,
   "metadata": {},
   "outputs": [
    {
     "name": "stdout",
     "output_type": "stream",
     "text": [
      "name:佳俊\n",
      "age:23\n",
      "\n",
      "name:佳俊\n",
      "age:23\n",
      "\n"
     ]
    }
   ],
   "source": [
    "name = input(\"name:\")\n",
    "age = int(input(\"age:\"))\n",
    "info1 = '''\n",
    "name:{_name}\n",
    "age:{_age}\n",
    "'''.format(_name=name,_age=age)\n",
    "print(info1)`"
   ]
  },
  {
   "cell_type": "code",
   "execution_count": 9,
   "metadata": {},
   "outputs": [
    {
     "name": "stdout",
     "output_type": "stream",
     "text": [
      "name:佳俊\n",
      "age:23\n",
      "\n"
     ]
    }
   ],
   "source": [
    "name = input(\"name:\")\n",
    "age = int(input(\"age:\"))\n",
    "info1 = ''\n",
    "name:{0}\n",
    "age:{1}\n",
    "''.format(name,age)\n",
    "print(info1)"
   ]
  },
  {
   "cell_type": "code",
   "execution_count": 11,
   "metadata": {},
   "outputs": [
    {
     "name": "stdout",
     "output_type": "stream",
     "text": [
      "username:jiajun\n",
      "password:········\n",
      "Welcome name login.\n"
     ]
    }
   ],
   "source": [
    "import getpass\n",
    "\n",
    "_username = 'jiajun'\n",
    "_password = 'abc123'\n",
    "\n",
    "username = input(\"username:\")\n",
    "password = getpass.getpass(\"password:\")\n",
    "\n",
    "if _username == username and _password == password:\n",
    "    print(\"Welcome name login.\".format(name=username))\n",
    "else:\n",
    "    print(\"Invaid username or password!\")\n"
   ]
  },
  {
   "cell_type": "code",
   "execution_count": 12,
   "metadata": {},
   "outputs": [
    {
     "name": "stdout",
     "output_type": "stream",
     "text": [
      "---------- 0\n",
      "0\n",
      "1\n",
      "2\n",
      "3\n",
      "4\n",
      "5\n",
      "6\n",
      "---------- 1\n",
      "0\n",
      "1\n",
      "2\n",
      "3\n",
      "4\n",
      "5\n",
      "6\n",
      "---------- 2\n",
      "0\n",
      "1\n",
      "2\n",
      "3\n",
      "4\n",
      "5\n",
      "6\n",
      "---------- 3\n",
      "0\n",
      "1\n",
      "2\n",
      "3\n",
      "4\n",
      "5\n",
      "6\n",
      "---------- 4\n",
      "0\n",
      "1\n",
      "2\n",
      "3\n",
      "4\n",
      "5\n",
      "6\n",
      "---------- 5\n",
      "0\n",
      "1\n",
      "2\n",
      "3\n",
      "4\n",
      "5\n",
      "6\n",
      "---------- 6\n",
      "0\n",
      "1\n",
      "2\n",
      "3\n",
      "4\n",
      "5\n",
      "6\n",
      "---------- 7\n",
      "0\n",
      "1\n",
      "2\n",
      "3\n",
      "4\n",
      "5\n",
      "6\n",
      "---------- 8\n",
      "0\n",
      "1\n",
      "2\n",
      "3\n",
      "4\n",
      "5\n",
      "6\n",
      "---------- 9\n",
      "0\n",
      "1\n",
      "2\n",
      "3\n",
      "4\n",
      "5\n",
      "6\n"
     ]
    }
   ],
   "source": [
    "for i in range(10):\n",
    "    print('----------',i)\n",
    "    for j in range(10):\n",
    "        print(j)\n",
    "        if j >5:\n",
    "            break"
   ]
  }
 ],
 "metadata": {
  "kernelspec": {
   "display_name": "Python 3",
   "language": "python",
   "name": "python3"
  },
  "language_info": {
   "codemirror_mode": {
    "name": "ipython",
    "version": 3
   },
   "file_extension": ".py",
   "mimetype": "text/x-python",
   "name": "python",
   "nbconvert_exporter": "python",
   "pygments_lexer": "ipython3",
   "version": "3.6.7"
  }
 },
 "nbformat": 4,
 "nbformat_minor": 2
}
