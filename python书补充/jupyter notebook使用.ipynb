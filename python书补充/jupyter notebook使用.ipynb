{
 "cells": [
  {
   "cell_type": "markdown",
   "metadata": {},
   "source": [
    "jupyter notebook\n",
    "可以跑本地代码的两种方法：\n",
    "%run 后跟的是Python文件的绝对路径。 \n",
    "!python3”用于执行Python 3.x版本的代码。\n",
    "\n",
    "获取当前位置\n",
    "%pwd 或者 !pwd\n",
    "\n",
    "!都是!shell命令\n",
    "!ls 显示当前本地目录（Linux系统）\n",
    "!dir 显示当前本地目录 （window系统）"
   ]
  }
 ],
 "metadata": {
  "kernelspec": {
   "display_name": "Python 3",
   "language": "python",
   "name": "python3"
  },
  "language_info": {
   "codemirror_mode": {
    "name": "ipython",
    "version": 3
   },
   "file_extension": ".py",
   "mimetype": "text/x-python",
   "name": "python",
   "nbconvert_exporter": "python",
   "pygments_lexer": "ipython3",
   "version": "3.6.7"
  }
 },
 "nbformat": 4,
 "nbformat_minor": 2
}
