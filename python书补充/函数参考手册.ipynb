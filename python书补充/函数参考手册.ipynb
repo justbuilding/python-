{
 "cells": [
  {
   "cell_type": "code",
   "execution_count": 1,
   "metadata": {},
   "outputs": [
    {
     "name": "stdout",
     "output_type": "stream",
     "text": [
      "12.23\n",
      "0\n",
      "32\n"
     ]
    }
   ],
   "source": [
    "#获取绝对值 abs()\n",
    "tuple_abs = [12.23,0,-32]\n",
    "for i in tuple_abs:\n",
    "    print(abs(i))\n",
    "#获取两个数相乘的绝对值 abs()\n",
    "def calc_abs(value1,value2):\n",
    "    return abs(value1*value2)\n",
    "calc_abs(-4,4)"
   ]
  },
  {
   "cell_type": "code",
   "execution_count": 23,
   "metadata": {},
   "outputs": [
    {
     "name": "stdout",
     "output_type": "stream",
     "text": [
      "(3, 1)\n",
      "divmod(3,2):(1, 1)\n",
      "divmod(2,2):(1, 0)\n",
      "divmod(1,2):(0, 1)\n",
      "divmod(0,2):(0, 0)\n",
      "\n",
      "\n",
      "divmod(3,2):(1, 1)\n",
      "divmod(2,2):(1, 0)\n",
      "divmod(1,2):(0, 1)\n",
      "divmod(0,2):(0, 0)\n"
     ]
    },
    {
     "ename": "TypeError",
     "evalue": "'NoneType' object is not iterable",
     "output_type": "error",
     "traceback": [
      "\u001b[1;31m---------------------------------------------------------------------------\u001b[0m",
      "\u001b[1;31mTypeError\u001b[0m                                 Traceback (most recent call last)",
      "\u001b[1;32m<ipython-input-23-95fe80dad589>\u001b[0m in \u001b[0;36m<module>\u001b[1;34m\u001b[0m\n\u001b[0;32m     13\u001b[0m \u001b[0mgetdivmod\u001b[0m\u001b[1;33m(\u001b[0m\u001b[1;36m3\u001b[0m\u001b[1;33m,\u001b[0m\u001b[1;36m2\u001b[0m\u001b[1;33m)\u001b[0m\u001b[1;33m\u001b[0m\u001b[1;33m\u001b[0m\u001b[0m\n\u001b[0;32m     14\u001b[0m \u001b[0mprint\u001b[0m\u001b[1;33m(\u001b[0m\u001b[1;34m\"\\n\"\u001b[0m\u001b[1;33m)\u001b[0m\u001b[1;33m\u001b[0m\u001b[1;33m\u001b[0m\u001b[0m\n\u001b[1;32m---> 15\u001b[1;33m \u001b[1;32mfor\u001b[0m \u001b[0mi\u001b[0m \u001b[1;32min\u001b[0m \u001b[0mgetdivmod\u001b[0m\u001b[1;33m(\u001b[0m\u001b[1;36m3\u001b[0m\u001b[1;33m,\u001b[0m\u001b[1;36m2\u001b[0m\u001b[1;33m)\u001b[0m\u001b[1;33m:\u001b[0m\u001b[1;33m\u001b[0m\u001b[1;33m\u001b[0m\u001b[0m\n\u001b[0m\u001b[0;32m     16\u001b[0m     \u001b[0mprint\u001b[0m\u001b[1;33m(\u001b[0m\u001b[1;34m\"{\"\u001b[0m\u001b[1;33m,\u001b[0m\u001b[0mgetdivmod\u001b[0m\u001b[1;33m,\u001b[0m\u001b[1;34m\",}\"\u001b[0m\u001b[1;33m)\u001b[0m\u001b[1;33m\u001b[0m\u001b[1;33m\u001b[0m\u001b[0m\n",
      "\u001b[1;31mTypeError\u001b[0m: 'NoneType' object is not iterable"
     ]
    }
   ],
   "source": [
    "#获取商和余数的元组，divmod(被除数，除数),返回一个元组，里面包含商和余数\n",
    "a = divmod(10,3)\n",
    "print(a)\n",
    "#从n开始，计算向下递减的每个数字和参数A的除数及余数\n",
    "def getdivmod(n,a):\n",
    "    while n >= 0:\n",
    "        sn = str(n)\n",
    "        sa = str(a)\n",
    "        result = ['divmod({0},{1}):'.format(sn,sa),str(divmod(n,a))]\n",
    "        print(''.join(result))\n",
    "        #print(result)\n",
    "        n = n - 1\n",
    "getdivmod(3,2)\n",
    "print(\"\\n\")"
   ]
  },
  {
   "cell_type": "code",
   "execution_count": 14,
   "metadata": {},
   "outputs": [
    {
     "name": "stdout",
     "output_type": "stream",
     "text": [
      "divmod({3},{1}):(3, 0)\n"
     ]
    }
   ],
   "source": [
    "a = 'divmod({0},{1}):'.format({3},{1}),str(divmod(3,1))\n",
    "print(''.join(a))"
   ]
  },
  {
   "cell_type": "code",
   "execution_count": 16,
   "metadata": {},
   "outputs": [
    {
     "data": {
      "text/plain": [
       "'/hello/good/boy/doiido'"
      ]
     },
     "execution_count": 16,
     "metadata": {},
     "output_type": "execute_result"
    }
   ],
   "source": [
    "#合并目录\n",
    "import os\n",
    "os.path.join('/hello/','good/boy/','doiido')"
   ]
  }
 ],
 "metadata": {
  "kernelspec": {
   "display_name": "Python 3",
   "language": "python",
   "name": "python3"
  },
  "language_info": {
   "codemirror_mode": {
    "name": "ipython",
    "version": 3
   },
   "file_extension": ".py",
   "mimetype": "text/x-python",
   "name": "python",
   "nbconvert_exporter": "python",
   "pygments_lexer": "ipython3",
   "version": "3.6.7"
  }
 },
 "nbformat": 4,
 "nbformat_minor": 2
}
