{
 "cells": [
  {
   "cell_type": "markdown",
   "metadata": {},
   "source": [
    "# 格式转换\n",
    "b、d、o、x分别是二进制、十进制、八进制、十六进制。\n",
    "\n",
    "数字\t     格式\t      输出\t       描述\n",
    "3.1415926\t {:.2f}\t    3.14\t   保留小数点后两位\n",
    "3.1415926\t {:+.2f}\t 3.14\t    带符号保留小数点后两位\n",
    "  -1\t    {:+.2f}\t    -1\t     带符号保留小数点后两位\n",
    "2.71828\t    {:.0f}\t    3\t     不带小数\n",
    "1000000     {:,}\t  1,000,000\t   以逗号分隔的数字格式\n",
    "0.25\t    {:.2%}\t   25.00%\t   百分比格式\n",
    "1000000000\t{:.2e}\t   1.00E+09\t    指数记法\n",
    "25\t      {0:b}\t     11001\t     转换成二进制\n",
    "25\t      {0:d}\t      25\t     转换成十进制\n",
    "25\t      {0:o}\t      31\t     转换成八进制\n",
    "25\t      {0:x}\t      19\t     转换成十六进制"
   ]
  },
  {
   "cell_type": "code",
   "execution_count": 5,
   "metadata": {},
   "outputs": [
    {
     "data": {
      "text/plain": [
       "'100,000'"
      ]
     },
     "execution_count": 5,
     "metadata": {},
     "output_type": "execute_result"
    }
   ],
   "source": [
    "'{0:b}'.format(10)    #二进制\n",
    "'{:.2%}'.format(0.25)\n",
    "'{:,}'.format(100000)"
   ]
  },
  {
   "cell_type": "markdown",
   "metadata": {},
   "source": [
    "# 对齐与填充\n",
    "数字\t格式\t输出\t    描述\n",
    "5\t{:0>2}\t05\t     数字补零 (填充左边, 宽度为2)\n",
    "5\t{:x<4}\t5xxx\t  数字补x (填充右边, 宽度为4)\n",
    "10\t{:x^4}\tx10x\t  数字补x (填充右边, 宽度为4)\n",
    "13\t{:10}   13\t    右对齐 (默认, 宽度为10)\n",
    "13\t{:<10}\t13\t     左对齐 (宽度为10)\n",
    "13\t{:^10}\t13\t     中间对齐 (宽度为10)"
   ]
  },
  {
   "cell_type": "code",
   "execution_count": 6,
   "metadata": {},
   "outputs": [
    {
     "data": {
      "text/plain": [
       "'05'"
      ]
     },
     "execution_count": 6,
     "metadata": {},
     "output_type": "execute_result"
    }
   ],
   "source": [
    "'{:0>2}'.format(5)"
   ]
  }
 ],
 "metadata": {
  "kernelspec": {
   "display_name": "Python 3",
   "language": "python",
   "name": "python3"
  },
  "language_info": {
   "codemirror_mode": {
    "name": "ipython",
    "version": 3
   },
   "file_extension": ".py",
   "mimetype": "text/x-python",
   "name": "python",
   "nbconvert_exporter": "python",
   "pygments_lexer": "ipython3",
   "version": "3.6.7"
  }
 },
 "nbformat": 4,
 "nbformat_minor": 2
}
